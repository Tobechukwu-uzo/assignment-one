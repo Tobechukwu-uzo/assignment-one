{
 "cells": [
  {
   "cell_type": "code",
   "execution_count": null,
   "id": "a8d0d482",
   "metadata": {},
   "outputs": [],
   "source": [
    "\"\"\"\"list of other industries where AI is used.\n",
    "1) Banking and finace \n",
    "2) Agriculture\n",
    "3) Transportation\n",
    "4) Gaming\n",
    "5) Space Exploration\"\"\"\""
   ]
  },
  {
   "cell_type": "code",
   "execution_count": null,
   "id": "7beeb3ae",
   "metadata": {},
   "outputs": [],
   "source": []
  },
  {
   "cell_type": "code",
   "execution_count": null,
   "id": "09901fbb",
   "metadata": {},
   "outputs": [],
   "source": []
  },
  {
   "cell_type": "code",
   "execution_count": 3,
   "id": "67bf8e81",
   "metadata": {},
   "outputs": [
    {
     "name": "stdout",
     "output_type": "stream",
     "text": [
      "10\n"
     ]
    }
   ],
   "source": [
    "a = 10\n",
    "print(a)"
   ]
  },
  {
   "cell_type": "code",
   "execution_count": 4,
   "id": "75895522",
   "metadata": {},
   "outputs": [
    {
     "name": "stdout",
     "output_type": "stream",
     "text": [
      "15\n"
     ]
    }
   ],
   "source": [
    "b = 15\n",
    "print(b)"
   ]
  },
  {
   "cell_type": "code",
   "execution_count": 5,
   "id": "bbb54588",
   "metadata": {},
   "outputs": [
    {
     "name": "stdout",
     "output_type": "stream",
     "text": [
      "25\n"
     ]
    }
   ],
   "source": [
    "two_sum = a + b\n",
    "print(two_sum)"
   ]
  },
  {
   "cell_type": "code",
   "execution_count": 15,
   "id": "efe72c39",
   "metadata": {},
   "outputs": [
    {
     "name": "stdout",
     "output_type": "stream",
     "text": [
      "this is a prime number\n"
     ]
    }
   ],
   "source": [
    "age_one = 15\n",
    "age_two = 17\n",
    "\n",
    "if age_one > age_two:\n",
    "\n",
    "    print(\"this is not prime number\")\n",
    "else:\n",
    "    print('this is a prime number')"
   ]
  },
  {
   "cell_type": "code",
   "execution_count": null,
   "id": "350c3712",
   "metadata": {},
   "outputs": [],
   "source": []
  }
 ],
 "metadata": {
  "kernelspec": {
   "display_name": "Python 3 (ipykernel)",
   "language": "python",
   "name": "python3"
  },
  "language_info": {
   "codemirror_mode": {
    "name": "ipython",
    "version": 3
   },
   "file_extension": ".py",
   "mimetype": "text/x-python",
   "name": "python",
   "nbconvert_exporter": "python",
   "pygments_lexer": "ipython3",
   "version": "3.9.13"
  }
 },
 "nbformat": 4,
 "nbformat_minor": 5
}
